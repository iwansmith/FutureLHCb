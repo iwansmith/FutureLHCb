{
 "cells": [
  {
   "cell_type": "markdown",
   "metadata": {},
   "source": [
    "# Documentation for the notebooks"
   ]
  },
  {
   "cell_type": "markdown",
   "metadata": {},
   "source": [
    "### 01: How to load data and generate a few simple variables\n",
    "[Notebook 1](01_LoadingSmearingPlotting.html)\n",
    "### 02: Investigating the templates and merging\n",
    "[Notebook 2](02_PlotSampleHistograms.html)\n",
    "### 03: Perform an example fit to the signal and normalisation channel\n",
    "[Notebook 3](03_ExampleFitter.html)\n",
    "### 04: Plot the fits, and resolution as a function of VELO precision\n",
    "[Notebook 4](04_Results.html)\n",
    "### 05: Perform fits using models for vertex resolution with(out) the RF foil\n",
    "[Notebook 5](05_RF_Foil.html)"
   ]
  },
  {
   "cell_type": "code",
   "execution_count": null,
   "metadata": {
    "collapsed": true
   },
   "outputs": [],
   "source": []
  }
 ],
 "metadata": {
  "kernelspec": {
   "display_name": "Python [conda root]",
   "language": "python",
   "name": "conda-root-py"
  },
  "language_info": {
   "codemirror_mode": {
    "name": "ipython",
    "version": 2
   },
   "file_extension": ".py",
   "mimetype": "text/x-python",
   "name": "python",
   "nbconvert_exporter": "python",
   "pygments_lexer": "ipython2",
   "version": "2.7.13"
  }
 },
 "nbformat": 4,
 "nbformat_minor": 2
}
