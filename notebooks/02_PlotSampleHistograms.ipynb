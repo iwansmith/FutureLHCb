{
 "cells": [
  {
   "cell_type": "markdown",
   "metadata": {},
   "source": [
    "# Setup the environment"
   ]
  },
  {
   "cell_type": "code",
   "execution_count": 1,
   "metadata": {},
   "outputs": [
    {
     "data": {
      "application/javascript": [
       "\n",
       "require(['notebook'],\n",
       "  function() {\n",
       "    IPython.CodeCell.config_defaults.highlight_modes['magic_text/x-c++src'] = {'reg':[/^%%cpp/]};\n",
       "    console.log(\"JupyROOT - %%cpp magic configured\");\n",
       "  }\n",
       ");\n"
      ]
     },
     "metadata": {},
     "output_type": "display_data"
    },
    {
     "name": "stdout",
     "output_type": "stream",
     "text": [
      "Welcome to JupyROOT 6.08/02\n"
     ]
    }
   ],
   "source": [
    "import sys\n",
    "sys.path.append('../../FourVector')\n",
    "sys.path.append('../project')\n",
    "\n",
    "from FourVector import FourVector\n",
    "from ThreeVector import ThreeVector\n",
    "\n",
    "from FutureColliderTools import SmearVertex, GetCorrectedMass, GetMissingMass2, GetQ2\n",
    "from FutureColliderDataLoader import LoadData_KMuNu, LoadData_DsMuNu\n",
    "\n",
    "from FutureColliderVariables import *\n",
    "\n",
    "import numpy as np\n",
    "import ROOT\n",
    "\n",
    "ROOT.enableJSVis()\n",
    "ROOT.gStyle.SetOptStat(0)\n",
    "\n"
   ]
  },
  {
   "cell_type": "markdown",
   "metadata": {},
   "source": [
    "# Do the work to do the plotting"
   ]
  },
  {
   "cell_type": "code",
   "execution_count": 2,
   "metadata": {
    "collapsed": true
   },
   "outputs": [],
   "source": [
    "from prettytable import PrettyTable\n",
    "def PlotHistograms(Filename):\n",
    "    \n",
    "    #Due to python's garbage collection the Histograms, Stacks, Files etc. need to be stored somewhere.\n",
    "    global Histograms\n",
    "    global Stacks\n",
    "    global Files\n",
    "    global legend\n",
    "    global Textarr\n",
    "    \n",
    "    canvas.Divide(3,3)\n",
    "    Histograms_norm = []\n",
    "    \n",
    "    table = PrettyTable()\n",
    "    \n",
    "    for it, resolution in enumerate(np.linspace(0.3, 1.0, 8)):\n",
    "        \n",
    "        # Open the histogram file for reading\n",
    "        File_Toys = ROOT.TFile.Open(Filename.format(resolution), \"READ\")\n",
    "        Files += [File_Toys]\n",
    "\n",
    "        KeyList = [ Key for Key in File_Toys.GetListOfKeys() if \"MCORR\" in Key.GetName() ]\n",
    "        Histograms_norm += [[ Key.ReadObj().Clone() for Key in KeyList if \"_norm\" in Key.GetName()]]\n",
    "        Histograms +=      [[ Key.ReadObj().Clone() for Key in KeyList if \"_norm\" not in Key.GetName()]]\n",
    "\n",
    "        # On the first loop, fill the Legend, and add the first column to the Table\n",
    "        if it == 0:\n",
    "            HistogramNames = [Hist.GetName().replace(\"MCORR_\", \"\").replace(\"Combinatorial\", \"C\") for Hist in Histograms[0] ]\n",
    "            table.add_column(\"\", HistogramNames)\n",
    "            \n",
    "            HistogramNames = [Hist.GetTitle() for Hist in Histograms_norm[0] ]\n",
    "            for Name, Hist in zip(HistogramNames, Histograms_norm[0]):\n",
    "                legend.AddEntry(Hist, Name, \"lep\")\n",
    "        \n",
    "        HistogramYields = [int(Hist.Integral()) for Hist in Histograms[-1] ]\n",
    "        table.add_column(str(resolution), HistogramYields)\n",
    "        \n",
    "        #Make a stack of the Historams\n",
    "        Stack = ROOT.THStack()\n",
    "        Color = 1\n",
    "        for Hist in Histograms_norm[it]:\n",
    "            #Hist.Sumw2(False)\n",
    "            Hist.SetDirectory(0)\n",
    "            Hist.SetLineColor(Color)\n",
    "            Hist.SetFillStyle(0)\n",
    "            Color+=1\n",
    "            Stack.Add(Hist)\n",
    "\n",
    "        Stacks += [Stack]\n",
    "        canvas.cd(it+1)\n",
    "        Stack.Draw(\"nostack\")\n",
    "        \n",
    "        Text = ROOT.TPaveText(0.1,0.7,0.5,0.9, \"NDC\")\n",
    "        Text.SetFillColor(0)\n",
    "        Text.SetBorderSize(0)\n",
    "        Text.AddText(\"#sigma (Vertex) =  \"+str(resolution)+\" #dot #sigma (LHCb)\")\n",
    "        Text.Draw()\n",
    "        Textarr += [Text]\n",
    "        \n",
    "    canvas.cd(9)\n",
    "    legend.Draw()\n",
    "    canvas.DrawClone()\n",
    "    print table\n"
   ]
  },
  {
   "cell_type": "markdown",
   "metadata": {},
   "source": [
    "# Print yields and plot all the templates\n",
    "## $B_s \\to D_s^-  \\mu^+ \\nu_{\\mu} $"
   ]
  },
  {
   "cell_type": "code",
   "execution_count": 3,
   "metadata": {
    "scrolled": false
   },
   "outputs": [
    {
     "ename": "Exception",
     "evalue": "Column length 6 does not match number of rows 7!",
     "output_type": "error",
     "traceback": [
      "\u001b[0;31m\u001b[0m",
      "\u001b[0;31mException\u001b[0mTraceback (most recent call last)",
      "\u001b[0;32m<ipython-input-3-096264466289>\u001b[0m in \u001b[0;36m<module>\u001b[0;34m()\u001b[0m\n\u001b[1;32m      7\u001b[0m \u001b[0mlegend\u001b[0m \u001b[0;34m=\u001b[0m \u001b[0mROOT\u001b[0m\u001b[0;34m.\u001b[0m\u001b[0mTLegend\u001b[0m\u001b[0;34m(\u001b[0m\u001b[0;36m0.101\u001b[0m\u001b[0;34m,\u001b[0m\u001b[0;36m0.101\u001b[0m\u001b[0;34m,\u001b[0m\u001b[0;36m0.899\u001b[0m\u001b[0;34m,\u001b[0m\u001b[0;36m0.899\u001b[0m\u001b[0;34m)\u001b[0m\u001b[0;34m;\u001b[0m\u001b[0;34m\u001b[0m\u001b[0m\n\u001b[1;32m      8\u001b[0m \u001b[0;34m\u001b[0m\u001b[0m\n\u001b[0;32m----> 9\u001b[0;31m \u001b[0mPlotHistograms\u001b[0m\u001b[0;34m(\u001b[0m\u001b[0;34m\"../output/Source_Histograms_DsMu_{0}_LHCb.root\"\u001b[0m\u001b[0;34m)\u001b[0m\u001b[0;34m\u001b[0m\u001b[0m\n\u001b[0m\u001b[1;32m     10\u001b[0m \u001b[0;34m\u001b[0m\u001b[0m\n\u001b[1;32m     11\u001b[0m \u001b[0mcanvas\u001b[0m\u001b[0;34m.\u001b[0m\u001b[0mDraw\u001b[0m\u001b[0;34m(\u001b[0m\u001b[0;34m)\u001b[0m\u001b[0;34m\u001b[0m\u001b[0m\n",
      "\u001b[0;32m<ipython-input-2-68e31f884dd4>\u001b[0m in \u001b[0;36mPlotHistograms\u001b[0;34m(Filename)\u001b[0m\n\u001b[1;32m     34\u001b[0m \u001b[0;34m\u001b[0m\u001b[0m\n\u001b[1;32m     35\u001b[0m         \u001b[0mHistogramYields\u001b[0m \u001b[0;34m=\u001b[0m \u001b[0;34m[\u001b[0m\u001b[0mint\u001b[0m\u001b[0;34m(\u001b[0m\u001b[0mHist\u001b[0m\u001b[0;34m.\u001b[0m\u001b[0mIntegral\u001b[0m\u001b[0;34m(\u001b[0m\u001b[0;34m)\u001b[0m\u001b[0;34m)\u001b[0m \u001b[0;32mfor\u001b[0m \u001b[0mHist\u001b[0m \u001b[0;32min\u001b[0m \u001b[0mHistograms\u001b[0m\u001b[0;34m[\u001b[0m\u001b[0;34m-\u001b[0m\u001b[0;36m1\u001b[0m\u001b[0;34m]\u001b[0m \u001b[0;34m]\u001b[0m\u001b[0;34m\u001b[0m\u001b[0m\n\u001b[0;32m---> 36\u001b[0;31m         \u001b[0mtable\u001b[0m\u001b[0;34m.\u001b[0m\u001b[0madd_column\u001b[0m\u001b[0;34m(\u001b[0m\u001b[0mstr\u001b[0m\u001b[0;34m(\u001b[0m\u001b[0mresolution\u001b[0m\u001b[0;34m)\u001b[0m\u001b[0;34m,\u001b[0m \u001b[0mHistogramYields\u001b[0m\u001b[0;34m)\u001b[0m\u001b[0;34m\u001b[0m\u001b[0m\n\u001b[0m\u001b[1;32m     37\u001b[0m \u001b[0;34m\u001b[0m\u001b[0m\n\u001b[1;32m     38\u001b[0m         \u001b[0;31m#Make a stack of the Historams\u001b[0m\u001b[0;34m\u001b[0m\u001b[0;34m\u001b[0m\u001b[0m\n",
      "\u001b[0;32m/home/ismith/Software/anaconda2/lib/python2.7/site-packages/prettytable.pyc\u001b[0m in \u001b[0;36madd_column\u001b[0;34m(self, fieldname, column, align, valign)\u001b[0m\n\u001b[1;32m    856\u001b[0m                 \u001b[0mself\u001b[0m\u001b[0;34m.\u001b[0m\u001b[0m_rows\u001b[0m\u001b[0;34m[\u001b[0m\u001b[0mi\u001b[0m\u001b[0;34m]\u001b[0m\u001b[0;34m.\u001b[0m\u001b[0mappend\u001b[0m\u001b[0;34m(\u001b[0m\u001b[0mcolumn\u001b[0m\u001b[0;34m[\u001b[0m\u001b[0mi\u001b[0m\u001b[0;34m]\u001b[0m\u001b[0;34m)\u001b[0m\u001b[0;34m\u001b[0m\u001b[0m\n\u001b[1;32m    857\u001b[0m         \u001b[0;32melse\u001b[0m\u001b[0;34m:\u001b[0m\u001b[0;34m\u001b[0m\u001b[0m\n\u001b[0;32m--> 858\u001b[0;31m             \u001b[0;32mraise\u001b[0m \u001b[0mException\u001b[0m\u001b[0;34m(\u001b[0m\u001b[0;34m\"Column length %d does not match number of rows %d!\"\u001b[0m \u001b[0;34m%\u001b[0m \u001b[0;34m(\u001b[0m\u001b[0mlen\u001b[0m\u001b[0;34m(\u001b[0m\u001b[0mcolumn\u001b[0m\u001b[0;34m)\u001b[0m\u001b[0;34m,\u001b[0m \u001b[0mlen\u001b[0m\u001b[0;34m(\u001b[0m\u001b[0mself\u001b[0m\u001b[0;34m.\u001b[0m\u001b[0m_rows\u001b[0m\u001b[0;34m)\u001b[0m\u001b[0;34m)\u001b[0m\u001b[0;34m)\u001b[0m\u001b[0;34m\u001b[0m\u001b[0m\n\u001b[0m\u001b[1;32m    859\u001b[0m \u001b[0;34m\u001b[0m\u001b[0m\n\u001b[1;32m    860\u001b[0m     \u001b[0;32mdef\u001b[0m \u001b[0mclear_rows\u001b[0m\u001b[0;34m(\u001b[0m\u001b[0mself\u001b[0m\u001b[0;34m)\u001b[0m\u001b[0;34m:\u001b[0m\u001b[0;34m\u001b[0m\u001b[0m\n",
      "\u001b[0;31mException\u001b[0m: Column length 6 does not match number of rows 7!"
     ]
    }
   ],
   "source": [
    "canvas = ROOT.TCanvas(\"c1\", \"c1\", 900, 900)\n",
    "\n",
    "Histograms = []\n",
    "Stacks = []\n",
    "Files = []\n",
    "Textarr = []\n",
    "legend = ROOT.TLegend(0.101,0.101,0.899,0.899);\n",
    "\n",
    "PlotHistograms(\"../output/Source_Histograms_DsMu_{0}_LHCb.root\")\n",
    "\n",
    "canvas.Draw()\n"
   ]
  },
  {
   "cell_type": "markdown",
   "metadata": {},
   "source": [
    "# Print yields and plot all the templates\n",
    "## $B_s \\to k^-  \\mu^+ \\nu_{\\mu} $"
   ]
  },
  {
   "cell_type": "code",
   "execution_count": null,
   "metadata": {},
   "outputs": [],
   "source": [
    "canvas = ROOT.TCanvas(\"c1\", \"c1\", 900, 900)\n",
    "\n",
    "Histograms = []\n",
    "Stacks = []\n",
    "Files = []\n",
    "legend = ROOT.TLegend(0.101,0.1,0.9,0.9);\n",
    "\n",
    "PlotHistograms(\"../output/Source_Histograms_KMu_{0}_LHCb.root\")\n",
    "\n",
    "canvas.Draw()"
   ]
  },
  {
   "cell_type": "markdown",
   "metadata": {
    "collapsed": true
   },
   "source": [
    "# Combining/Removing Histograms\n",
    "\n",
    "### We can see that several of the templates have similar shapes.\n",
    "\n",
    "### The following can be combined or removed:\n",
    "\n",
    "## For $B_s \\to D_s^-  \\mu^+ \\nu_{\\mu} $\n",
    "\n",
    "* Both $B_s \\to D_s \\tau X$ modes\n",
    "* Both Further Excited Ds* resonance\n",
    "\n",
    "## For $B_s \\to K^+  \\mu^+ \\nu_{\\mu} $\n",
    "* Both $B_s \\to D_s \\tau X$ modes\n",
    "* Both Combinatorial Modes\n",
    "* Both Further Excited Ds* resonances and the Lambda Mode\n",
    "* $B_s \\to D_s  \\mu^+ \\nu_{\\mu} $ and $B_s \\to D_s^*  \\mu^+ \\nu_{\\mu} $\n",
    "\n"
   ]
  },
  {
   "cell_type": "code",
   "execution_count": null,
   "metadata": {},
   "outputs": [],
   "source": [
    "canvas = ROOT.TCanvas(\"c1\", \"c1\", 900, 900)\n",
    "\n",
    "Histograms = []\n",
    "Stacks = []\n",
    "Files = []\n",
    "legend = ROOT.TLegend(0.1,0.1,0.9,0.9);\n",
    "\n",
    "PlotHistograms(\"../output/Source_Histograms_DsMu_{0}_LHCb_Merged.root\")\n",
    "\n",
    "canvas.Draw()"
   ]
  },
  {
   "cell_type": "code",
   "execution_count": null,
   "metadata": {},
   "outputs": [],
   "source": [
    "canvas = ROOT.TCanvas(\"c1\", \"c1\", 900, 900)\n",
    "\n",
    "Histograms = []\n",
    "Stacks = []\n",
    "Files = []\n",
    "legend = ROOT.TLegend(0.1,0.1,0.9,0.9);\n",
    "\n",
    "PlotHistograms(\"../output/Source_Histograms_KMu_{0}_LHCb_Merged.root\")\n",
    "\n",
    "canvas.Draw()"
   ]
  },
  {
   "cell_type": "code",
   "execution_count": null,
   "metadata": {
    "collapsed": true
   },
   "outputs": [],
   "source": []
  },
  {
   "cell_type": "code",
   "execution_count": null,
   "metadata": {
    "collapsed": true
   },
   "outputs": [],
   "source": []
  },
  {
   "cell_type": "code",
   "execution_count": null,
   "metadata": {
    "collapsed": true
   },
   "outputs": [],
   "source": []
  }
 ],
 "metadata": {
  "anaconda-cloud": {},
  "kernelspec": {
   "display_name": "Python [conda root]",
   "language": "python",
   "name": "conda-root-py"
  },
  "language_info": {
   "codemirror_mode": {
    "name": "ipython",
    "version": 2
   },
   "file_extension": ".py",
   "mimetype": "text/x-python",
   "name": "python",
   "nbconvert_exporter": "python",
   "pygments_lexer": "ipython2",
   "version": "2.7.13"
  }
 },
 "nbformat": 4,
 "nbformat_minor": 1
}
