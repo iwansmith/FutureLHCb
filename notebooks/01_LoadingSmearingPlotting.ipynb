{
 "cells": [
  {
   "cell_type": "markdown",
   "metadata": {},
   "source": [
    "# Setup the environment and load the data"
   ]
  },
  {
   "cell_type": "code",
   "execution_count": 1,
   "metadata": {
    "collapsed": false
   },
   "outputs": [
    {
     "data": {
      "application/javascript": [
       "\n",
       "require(['notebook'],\n",
       "  function() {\n",
       "    IPython.CodeCell.config_defaults.highlight_modes['magic_text/x-c++src'] = {'reg':[/^%%cpp/]};\n",
       "    console.log(\"JupyROOT - %%cpp magic configured\");\n",
       "  }\n",
       ");\n"
      ]
     },
     "metadata": {},
     "output_type": "display_data"
    },
    {
     "name": "stdout",
     "output_type": "stream",
     "text": [
      "Welcome to JupyROOT 6.08/02\n"
     ]
    }
   ],
   "source": [
    "import sys\n",
    "sys.path.append('/home/ismith/ANA/FourVector')\n",
    "sys.path.append('../project')\n",
    "\n",
    "from FourVector import FourVector\n",
    "from ThreeVector import ThreeVector\n",
    "\n",
    "from FutureColliderTools import SmearVertex, GetCorrectedMass, GetMissingMass2, GetQ2\n",
    "from FutureColliderDataLoader import LoadData_KMuNu, LoadData_DsMuNu\n",
    "\n",
    "from FutureColliderVariables import DataTuple\n",
    "\n",
    "import numpy as np\n",
    "import ROOT\n",
    "\n",
    "ROOT.enableJSVis()\n",
    "ROOT.gStyle.SetOptStat(0)\n",
    "\n"
   ]
  },
  {
   "cell_type": "markdown",
   "metadata": {},
   "source": [
    "# Load $B_s \\to K^- \\mu^+ \\nu_\\mu$ Data\n",
    "\n",
    "### Print a few events so the structure can be seen"
   ]
  },
  {
   "cell_type": "code",
   "execution_count": 7,
   "metadata": {
    "collapsed": false
   },
   "outputs": [
    {
     "name": "stdout",
     "output_type": "stream",
     "text": [
      "+-------------------------+---------------+---------------+---------------+---------------+---------------+\n",
      "|                         |      Ev 0     |      Ev 1     |      Ev 2     |      Ev 3     |      Ev 4     |\n",
      "+-------------------------+---------------+---------------+---------------+---------------+---------------+\n",
      "|      Kminus_TRUEP_E     | 61977.3825059 | 43248.3310134 | 5457.04280306 | 9077.88373525 | 49384.8318345 |\n",
      "|      Kminus_TRUEP_X     |     552.99    |    -3780.28   |    -236.81    |    -824.94    |    2723.53    |\n",
      "|      Kminus_TRUEP_Y     |    -1903.15   |    2557.32    |    -1023.31   |     1381.0    |    -1195.83   |\n",
      "|      Kminus_TRUEP_Z     |    61943.72   |    43004.0    |     5332.2    |    8920.57    |    49292.7    |\n",
      "|      muplus_TRUEP_E     | 163875.924011 | 960.302049387 | 71498.3097027 | 6061.79860869 | 10992.1736175 |\n",
      "|      muplus_TRUEP_X     |     -289.8    |     13.83     |    -758.05    |     107.97    |     119.16    |\n",
      "|      muplus_TRUEP_Y     |    -1992.52   |    -114.07    |    -3986.38   |    -1484.0    |     2102.6    |\n",
      "|      muplus_TRUEP_Z     |   163863.52   |     947.53    |    71382.99   |     5875.4    |    10788.03   |\n",
      "|       B_s0_TRUEP_E      | 425334.490271 | 119800.510708 | 157601.850945 | 35859.7607621 | 60559.6938686 |\n",
      "|       B_s0_TRUEP_X      |    1882.21    |    -8376.14   |     527.19    |    -4185.89   |    2787.76    |\n",
      "|       B_s0_TRUEP_Y      |    -3559.48   |    2416.48    |    -9646.72   |    -1492.37   |     868.7     |\n",
      "|       B_s0_TRUEP_Z      |   425281.57   |   119362.31   |   157213.88   |    35176.29   |    60250.71   |\n",
      "| B_s0_TRUEORIGINVERTEX_X |     0.6721    |     0.6137    |     0.5582    |     0.6721    |     0.6759    |\n",
      "| B_s0_TRUEORIGINVERTEX_Y |     0.1006    |     0.1562    |     0.0815    |     0.1387    |     0.1464    |\n",
      "| B_s0_TRUEORIGINVERTEX_Z |     39.149    |    17.8648    |    21.8674    |    21.9918    |    36.2408    |\n",
      "|   B_s0_TRUEENDVERTEX_X  |     0.7029    |     0.4707    |     0.5621    |     0.6066    |     0.8271    |\n",
      "|   B_s0_TRUEENDVERTEX_Y  |     0.0425    |     0.1974    |     0.0106    |     0.1153    |     0.1935    |\n",
      "|   B_s0_TRUEENDVERTEX_Z  |    46.0989    |    19.9028    |    23.0229    |    22.5421    |    39.5078    |\n",
      "+-------------------------+---------------+---------------+---------------+---------------+---------------+\n"
     ]
    }
   ],
   "source": [
    "from prettytable import PrettyTable\n",
    "\n",
    "EventType = \"13512010\"\n",
    "FileName, TreeName = DataTuple[ EventType ]\n",
    "\n",
    "InputData, K_PE, Mu_PE, B_PE, B_Origin, B_End = LoadData_KMuNu(EventType, (FileName, TreeName) )\n",
    "\n",
    "DataTable = PrettyTable()\n",
    "DataTable.add_column(\"\", InputData.dtype.names)\n",
    "for x in range(5):\n",
    "    DataTable.add_column(\"Ev {0}\".format(x), InputData[x])\n",
    "print DataTable"
   ]
  },
  {
   "cell_type": "markdown",
   "metadata": {},
   "source": [
    "# Organise the data into a nice format\n",
    "\n",
    "* Generate FourVectors fo the kaon and muon\n",
    "* Generate a ThreeVector of the B direction"
   ]
  },
  {
   "cell_type": "code",
   "execution_count": 11,
   "metadata": {
    "collapsed": true
   },
   "outputs": [],
   "source": [
    "K  = FourVector( InputData[K_PE ] )\n",
    "Mu = FourVector( InputData[Mu_PE] )\n",
    "\n",
    "Y = K+Mu\n",
    "\n",
    "B_Dir = ThreeVector( InputData[B_End] ) - ThreeVector( InputData[B_Origin] )\n"
   ]
  },
  {
   "cell_type": "markdown",
   "metadata": {},
   "source": [
    "# Define a function to return the missing mass squared: $m_{missing}^2$\n",
    "\n",
    "### This uses the assumption that the lorentz boost of the $B_{s}$ is the same as the $K^+ \\mu^-$ system."
   ]
  },
  {
   "cell_type": "code",
   "execution_count": null,
   "metadata": {
    "collapsed": true
   },
   "outputs": [],
   "source": []
  },
  {
   "cell_type": "markdown",
   "metadata": {},
   "source": [
    "# Define a function to return the $q^2$\n",
    "\n",
    "### This returns the true solution, and the three quadratic solutions."
   ]
  },
  {
   "cell_type": "code",
   "execution_count": null,
   "metadata": {
    "collapsed": false
   },
   "outputs": [],
   "source": []
  },
  {
   "cell_type": "markdown",
   "metadata": {},
   "source": [
    "# Let's compare different uncertainties on the PV and SV\n",
    "### We will consider three cases:\n",
    " * No smearing of the vertices\n",
    " * smearing equal to uncertainties at LHCb\n",
    " * smearing with half the LHCb uncertainty\n"
   ]
  },
  {
   "cell_type": "code",
   "execution_count": null,
   "metadata": {
    "collapsed": false,
    "scrolled": false
   },
   "outputs": [],
   "source": []
  },
  {
   "cell_type": "code",
   "execution_count": null,
   "metadata": {
    "collapsed": true
   },
   "outputs": [],
   "source": []
  },
  {
   "cell_type": "code",
   "execution_count": null,
   "metadata": {
    "collapsed": false
   },
   "outputs": [],
   "source": []
  },
  {
   "cell_type": "code",
   "execution_count": null,
   "metadata": {
    "collapsed": true
   },
   "outputs": [],
   "source": []
  }
 ],
 "metadata": {
  "anaconda-cloud": {},
  "kernelspec": {
   "display_name": "Python [default]",
   "language": "python",
   "name": "python2"
  },
  "language_info": {
   "codemirror_mode": {
    "name": "ipython",
    "version": 2
   },
   "file_extension": ".py",
   "mimetype": "text/x-python",
   "name": "python",
   "nbconvert_exporter": "python",
   "pygments_lexer": "ipython2",
   "version": "2.7.12"
  }
 },
 "nbformat": 4,
 "nbformat_minor": 1
}
