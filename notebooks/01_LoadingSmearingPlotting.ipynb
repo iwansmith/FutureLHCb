{
 "cells": [
  {
   "cell_type": "markdown",
   "metadata": {},
   "source": [
    "# Setup the environment"
   ]
  },
  {
   "cell_type": "code",
   "execution_count": 1,
   "metadata": {},
   "outputs": [
    {
     "data": {
      "application/javascript": [
       "\n",
       "require(['notebook'],\n",
       "  function() {\n",
       "    IPython.CodeCell.config_defaults.highlight_modes['magic_text/x-c++src'] = {'reg':[/^%%cpp/]};\n",
       "    console.log(\"JupyROOT - %%cpp magic configured\");\n",
       "  }\n",
       ");\n"
      ]
     },
     "metadata": {},
     "output_type": "display_data"
    },
    {
     "name": "stdout",
     "output_type": "stream",
     "text": [
      "Welcome to JupyROOT 6.08/02\n"
     ]
    }
   ],
   "source": [
    "import sys\n",
    "sys.path.append('../../FourVector')\n",
    "sys.path.append('../project')\n",
    "\n",
    "from FourVector import FourVector\n",
    "from ThreeVector import ThreeVector\n",
    "\n",
    "from FutureColliderTools import SmearVertex, GetCorrectedMass, GetMissingMass2, GetQ2\n",
    "from FutureColliderDataLoader import LoadData_KMuNu, LoadData_DsMuNu\n",
    "\n",
    "from FutureColliderVariables import DataTuple, sigma_PV_LHCb, sigma_SV_LHCb\n",
    "\n",
    "import numpy as np\n",
    "import ROOT\n",
    "\n",
    "ROOT.enableJSVis()\n",
    "ROOT.gStyle.SetOptStat(0)\n",
    "\n"
   ]
  },
  {
   "cell_type": "markdown",
   "metadata": {},
   "source": [
    "# Load $B_s \\to K^- \\mu^+ \\nu_\\mu$ Data\n",
    "\n",
    "### Print a few events so the structure can be seen"
   ]
  },
  {
   "cell_type": "code",
   "execution_count": 2,
   "metadata": {},
   "outputs": [
    {
     "name": "stdout",
     "output_type": "stream",
     "text": [
      "+-------------------------+---------------+---------------+---------------+---------------+\n",
      "|                         |      Ev 0     |      Ev 1     |      Ev 2     |      Ev 3     |\n",
      "+-------------------------+---------------+---------------+---------------+---------------+\n",
      "|      Kminus_TRUEP_E     | 61977.3825059 | 43248.3310134 | 5457.04280306 | 9077.88373525 |\n",
      "|      Kminus_TRUEP_X     |     552.99    |    -3780.28   |    -236.81    |    -824.94    |\n",
      "|      Kminus_TRUEP_Y     |    -1903.15   |    2557.32    |    -1023.31   |     1381.0    |\n",
      "|      Kminus_TRUEP_Z     |    61943.72   |    43004.0    |     5332.2    |    8920.57    |\n",
      "|      muplus_TRUEP_E     | 163875.924011 | 960.302049387 | 71498.3097027 | 6061.79860869 |\n",
      "|      muplus_TRUEP_X     |     -289.8    |     13.83     |    -758.05    |     107.97    |\n",
      "|      muplus_TRUEP_Y     |    -1992.52   |    -114.07    |    -3986.38   |    -1484.0    |\n",
      "|      muplus_TRUEP_Z     |   163863.52   |     947.53    |    71382.99   |     5875.4    |\n",
      "|       B_s0_TRUEP_E      | 425334.490271 | 119800.510708 | 157601.850945 | 35859.7607621 |\n",
      "|       B_s0_TRUEP_X      |    1882.21    |    -8376.14   |     527.19    |    -4185.89   |\n",
      "|       B_s0_TRUEP_Y      |    -3559.48   |    2416.48    |    -9646.72   |    -1492.37   |\n",
      "|       B_s0_TRUEP_Z      |   425281.57   |   119362.31   |   157213.88   |    35176.29   |\n",
      "| B_s0_TRUEORIGINVERTEX_X |     0.6721    |     0.6137    |     0.5582    |     0.6721    |\n",
      "| B_s0_TRUEORIGINVERTEX_Y |     0.1006    |     0.1562    |     0.0815    |     0.1387    |\n",
      "| B_s0_TRUEORIGINVERTEX_Z |     39.149    |    17.8648    |    21.8674    |    21.9918    |\n",
      "|   B_s0_TRUEENDVERTEX_X  |     0.7029    |     0.4707    |     0.5621    |     0.6066    |\n",
      "|   B_s0_TRUEENDVERTEX_Y  |     0.0425    |     0.1974    |     0.0106    |     0.1153    |\n",
      "|   B_s0_TRUEENDVERTEX_Z  |    46.0989    |    19.9028    |    23.0229    |    22.5421    |\n",
      "+-------------------------+---------------+---------------+---------------+---------------+\n"
     ]
    }
   ],
   "source": [
    "from prettytable import PrettyTable\n",
    "\n",
    "EventType = \"13512010\"\n",
    "FileName, TreeName = DataTuple[ EventType ]\n",
    "\n",
    "InputData, K_PE, Mu_PE, B_PE, B_Origin, B_End = LoadData_KMuNu(EventType, (FileName, TreeName) )\n",
    "\n",
    "DataTable = PrettyTable()\n",
    "DataTable.add_column(\"\", InputData.dtype.names)\n",
    "for x in range(4):\n",
    "    DataTable.add_column(\"Ev {0}\".format(x), InputData[x])\n",
    "print DataTable"
   ]
  },
  {
   "cell_type": "markdown",
   "metadata": {},
   "source": [
    "# Organise the data into a nice format\n",
    "\n",
    "* Generate FourVectors fo the kaon and muon\n",
    "* Smear the primary and secondary vertices\n",
    "* Generate a ThreeVector of the B direction"
   ]
  },
  {
   "cell_type": "code",
   "execution_count": 3,
   "metadata": {
    "collapsed": true
   },
   "outputs": [],
   "source": [
    "K  = FourVector( InputData[K_PE ] )\n",
    "Mu = FourVector( InputData[Mu_PE] )\n",
    "\n",
    "Y = K+Mu\n",
    "\n",
    "DataType = InputData[B_End[0]].dtype\n",
    "Smeared_SV = SmearVertex( InputData[B_End]   .copy().view( (DataType, 3) ), sigma_SV_LHCb )\n",
    "Smeared_PV = SmearVertex( InputData[B_Origin].copy().view( (DataType, 3) ), sigma_PV_LHCb )\n",
    "\n",
    "B_Dir = ThreeVector( Smeared_PV ) - ThreeVector( Smeared_SV )\n"
   ]
  },
  {
   "cell_type": "markdown",
   "metadata": {},
   "source": [
    "# Do some nice things with the data\n",
    "* generate the corrected mass of the events\n",
    "* generated the missing mass squared of the events\n",
    "* generate the two quadratic solutions to the $q^2$"
   ]
  },
  {
   "cell_type": "code",
   "execution_count": 4,
   "metadata": {},
   "outputs": [
    {
     "ename": "IndexError",
     "evalue": "invalid index to scalar variable.",
     "output_type": "error",
     "traceback": [
      "\u001b[0;31m\u001b[0m",
      "\u001b[0;31mIndexError\u001b[0mTraceback (most recent call last)",
      "\u001b[0;32m<ipython-input-4-0d1c9c13c26e>\u001b[0m in \u001b[0;36m<module>\u001b[0;34m()\u001b[0m\n\u001b[1;32m      1\u001b[0m \u001b[0mMCORR\u001b[0m        \u001b[0;34m=\u001b[0m \u001b[0mGetCorrectedMass\u001b[0m\u001b[0;34m(\u001b[0m \u001b[0mY\u001b[0m\u001b[0;34m,\u001b[0m \u001b[0mB_Dir\u001b[0m\u001b[0;34m)\u001b[0m\u001b[0;34m\u001b[0m\u001b[0m\n\u001b[0;32m----> 2\u001b[0;31m \u001b[0mMissingM2\u001b[0m    \u001b[0;34m=\u001b[0m \u001b[0mGetMissingMass2\u001b[0m\u001b[0;34m(\u001b[0m\u001b[0mK\u001b[0m\u001b[0;34m,\u001b[0m \u001b[0mMu\u001b[0m\u001b[0;34m,\u001b[0m \u001b[0mB_Dir\u001b[0m\u001b[0;34m)\u001b[0m\u001b[0;34m\u001b[0m\u001b[0m\n\u001b[0m\u001b[1;32m      3\u001b[0m \u001b[0mQsq_1\u001b[0m\u001b[0;34m,\u001b[0m \u001b[0mQsq_2\u001b[0m \u001b[0;34m=\u001b[0m \u001b[0mGetQ2\u001b[0m\u001b[0;34m(\u001b[0m\u001b[0mY\u001b[0m\u001b[0;34m,\u001b[0m \u001b[0mMu\u001b[0m\u001b[0;34m,\u001b[0m \u001b[0mB_Dir\u001b[0m \u001b[0;34m)\u001b[0m\u001b[0;34m\u001b[0m\u001b[0m\n",
      "\u001b[0;32m/home/ismith/ANA/FutureStudies/project/FutureColliderTools.pyc\u001b[0m in \u001b[0;36mGetMissingMass2\u001b[0;34m(K, Mu, B_Direction)\u001b[0m\n\u001b[1;32m    135\u001b[0m     \u001b[0mB\u001b[0m\u001b[0;34m.\u001b[0m\u001b[0mSetXYZM\u001b[0m\u001b[0;34m(\u001b[0m \u001b[0mB_P\u001b[0m\u001b[0;34m,\u001b[0m \u001b[0;36m5366.\u001b[0m\u001b[0;34m)\u001b[0m\u001b[0;34m\u001b[0m\u001b[0m\n\u001b[1;32m    136\u001b[0m \u001b[0;34m\u001b[0m\u001b[0m\n\u001b[0;32m--> 137\u001b[0;31m     \u001b[0;32mprint\u001b[0m \u001b[0mB\u001b[0m\u001b[0;34m\u001b[0m\u001b[0m\n\u001b[0m\u001b[1;32m    138\u001b[0m     \u001b[0;32mreturn\u001b[0m \u001b[0;34m(\u001b[0m\u001b[0mB\u001b[0m \u001b[0;34m-\u001b[0m \u001b[0mK\u001b[0m \u001b[0;34m-\u001b[0m \u001b[0mMu\u001b[0m\u001b[0;34m)\u001b[0m\u001b[0;34m.\u001b[0m\u001b[0mM2\u001b[0m\u001b[0;34m(\u001b[0m\u001b[0;34m)\u001b[0m\u001b[0;34m\u001b[0m\u001b[0m\n\u001b[1;32m    139\u001b[0m \u001b[0;34m\u001b[0m\u001b[0m\n",
      "\u001b[0;32m/home/ismith/ANA/FourVector/FourVector.py\u001b[0m in \u001b[0;36m__str__\u001b[0;34m(self)\u001b[0m\n\u001b[1;32m    121\u001b[0m                 \u001b[0mprintTable\u001b[0m \u001b[0;34m=\u001b[0m \u001b[0mPrettyTable\u001b[0m\u001b[0;34m(\u001b[0m\u001b[0;34m)\u001b[0m\u001b[0;34m\u001b[0m\u001b[0m\n\u001b[1;32m    122\u001b[0m                 \u001b[0;32mprint\u001b[0m \u001b[0mself\u001b[0m\u001b[0;34m.\u001b[0m\u001b[0mPE\u001b[0m\u001b[0;34m,\u001b[0m \u001b[0mself\u001b[0m\u001b[0;34m.\u001b[0m\u001b[0mfP\u001b[0m\u001b[0;34m.\u001b[0m\u001b[0mPX\u001b[0m\u001b[0;34m,\u001b[0m \u001b[0mself\u001b[0m\u001b[0;34m.\u001b[0m\u001b[0mfP\u001b[0m\u001b[0;34m.\u001b[0m\u001b[0mPY\u001b[0m\u001b[0;34m\u001b[0m\u001b[0m\n\u001b[0;32m--> 123\u001b[0;31m                 \u001b[0mprintTable\u001b[0m\u001b[0;34m.\u001b[0m\u001b[0madd_column\u001b[0m\u001b[0;34m(\u001b[0m \u001b[0;34m\"PE\"\u001b[0m\u001b[0;34m,\u001b[0m \u001b[0mself\u001b[0m\u001b[0;34m.\u001b[0m\u001b[0mPE\u001b[0m\u001b[0;34m[\u001b[0m\u001b[0;34m:\u001b[0m\u001b[0;36m10\u001b[0m\u001b[0;34m]\u001b[0m \u001b[0;34m)\u001b[0m\u001b[0;34m\u001b[0m\u001b[0m\n\u001b[0m\u001b[1;32m    124\u001b[0m                 \u001b[0mprintTable\u001b[0m\u001b[0;34m.\u001b[0m\u001b[0madd_column\u001b[0m\u001b[0;34m(\u001b[0m \u001b[0;34m\"PX\"\u001b[0m\u001b[0;34m,\u001b[0m \u001b[0mself\u001b[0m\u001b[0;34m.\u001b[0m\u001b[0mfP\u001b[0m\u001b[0;34m.\u001b[0m\u001b[0mPX\u001b[0m\u001b[0;34m[\u001b[0m\u001b[0;34m:\u001b[0m\u001b[0;36m10\u001b[0m\u001b[0;34m]\u001b[0m \u001b[0;34m)\u001b[0m\u001b[0;34m\u001b[0m\u001b[0m\n\u001b[1;32m    125\u001b[0m                 \u001b[0mprintTable\u001b[0m\u001b[0;34m.\u001b[0m\u001b[0madd_column\u001b[0m\u001b[0;34m(\u001b[0m \u001b[0;34m\"PY\"\u001b[0m\u001b[0;34m,\u001b[0m \u001b[0mself\u001b[0m\u001b[0;34m.\u001b[0m\u001b[0mfP\u001b[0m\u001b[0;34m.\u001b[0m\u001b[0mPY\u001b[0m\u001b[0;34m[\u001b[0m\u001b[0;34m:\u001b[0m\u001b[0;36m10\u001b[0m\u001b[0;34m]\u001b[0m \u001b[0;34m)\u001b[0m\u001b[0;34m\u001b[0m\u001b[0m\n",
      "\u001b[0;31mIndexError\u001b[0m: invalid index to scalar variable."
     ]
    },
    {
     "name": "stdout",
     "output_type": "stream",
     "text": [
      "Trying 1\n",
      "Trying 2\n",
      "(<ThreeVector.ThreeVector instance at 0x7f8d7312f2d8>, 5366.0)\n",
      "Trying 3\n",
      "Trying 1\n",
      "Trying 2\n",
      "None\n",
      "Trying 3\n",
      "5366.0 0 0\n"
     ]
    }
   ],
   "source": [
    "MCORR        = GetCorrectedMass( Y, B_Dir)\n",
    "MissingM2    = GetMissingMass2(K, Mu, B_Dir)\n",
    "Qsq_1, Qsq_2 = GetQ2(Y, Mu, B_Dir )"
   ]
  },
  {
   "cell_type": "markdown",
   "metadata": {},
   "source": [
    "# Plot the data"
   ]
  },
  {
   "cell_type": "code",
   "execution_count": null,
   "metadata": {},
   "outputs": [],
   "source": [
    "h_MCORR = ROOT.TH1F(\"h_MCORR\", \"B_{s} Corrected Mass\", 100, 3000, 6000)\n",
    "h_MM2   = ROOT.TH1F(\"h_MM2\"  , \"Missing Mass Squared\", 100, -4e6, 12e6)\n",
    "h_Qsq_1 = ROOT.TH1F(\"h_QSQ1\" , \"q^{2} Quadratic Solutions\", 100, 0, 24e6)\n",
    "h_Qsq_2 = ROOT.TH1F(\"h_QSQ2\" , \"q^{2} Quadratic Solutions\", 100, 0, 24e6)\n",
    "\n",
    "nev = len(K)\n",
    "\n",
    "h_MCORR.FillN(nev, MCORR,     np.ones(nev))\n",
    "h_MM2  .FillN(nev, MissingM2, np.ones(nev))\n",
    "h_Qsq_1.FillN(nev, Qsq_1,     np.ones(nev))\n",
    "h_Qsq_2.FillN(nev, Qsq_2,     np.ones(nev))\n",
    "\n",
    "canvas_1 = ROOT.TCanvas(\"c1\", \"c1\", 900,300)\n",
    "canvas_1.Divide(3)\n",
    "canvas_1.cd(1)\n",
    "h_MCORR.Draw()\n",
    "canvas_1.cd(2)\n",
    "h_MM2.Draw()\n",
    "canvas_1.cd(3)\n",
    "h_Qsq_1.Draw()\n",
    "h_Qsq_2.Draw(\"SAME\")\n",
    "canvas_1.Draw()"
   ]
  },
  {
   "cell_type": "code",
   "execution_count": null,
   "metadata": {
    "collapsed": true
   },
   "outputs": [],
   "source": []
  }
 ],
 "metadata": {
  "anaconda-cloud": {},
  "kernelspec": {
   "display_name": "Python [default]",
   "language": "python",
   "name": "python2"
  },
  "language_info": {
   "codemirror_mode": {
    "name": "ipython",
    "version": 2
   },
   "file_extension": ".py",
   "mimetype": "text/x-python",
   "name": "python",
   "nbconvert_exporter": "python",
   "pygments_lexer": "ipython2",
   "version": "2.7.13"
  }
 },
 "nbformat": 4,
 "nbformat_minor": 1
}
